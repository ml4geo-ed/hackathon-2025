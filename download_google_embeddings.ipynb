{
 "cells": [
  {
   "cell_type": "markdown",
   "id": "47310aa5",
   "metadata": {},
   "source": [
    "1. Read in the boundaries for each admin\n",
    "2. Create a task for each boundary for gee to:\n",
    "    \n",
    "    2.1 Get embeddings product\n",
    "    \n",
    "    2.2 Aggregate pixels for each boundary\n",
    "    \n",
    "    2.3 Save to google drive "
   ]
  },
  {
   "cell_type": "code",
   "execution_count": 39,
   "id": "677cd08a",
   "metadata": {},
   "outputs": [],
   "source": [
    "import ee\n",
    "import yaml\n",
    "import pandas as pd\n",
    "import geopandas as gpd\n",
    "import leafmap.leafmap as leafmap\n",
    "from shapely.geometry import mapping"
   ]
  },
  {
   "cell_type": "code",
   "execution_count": 2,
   "id": "ab619aa9",
   "metadata": {},
   "outputs": [],
   "source": [
    "# step  1: Read the shapefile for the boundaries\n",
    "boundary_path = r\"C:/Users/Sean O Heir/Documents/research/data/mozambique/boundaries/moz_admbnda_adm3_ine_20190607.shp\"\n",
    "admin_boundary_gdf = gpd.read_file(boundary_path)"
   ]
  },
  {
   "cell_type": "code",
   "execution_count": 6,
   "id": "c25db967",
   "metadata": {},
   "outputs": [
    {
     "name": "stdout",
     "output_type": "stream",
     "text": [
      "Connection with the Earth Engine servers established\n"
     ]
    }
   ],
   "source": [
    "def establish_connection_with_earth_engine(project_name):\n",
    "    \"\"\"\n",
    "    Authenticates and initializes a connection with Google Earth Engine.\n",
    "\n",
    "    Args:\n",
    "        project_name (str): The name of the Google Cloud project to use for authentication.\n",
    "    \"\"\"\n",
    "    try:\n",
    "        ee.Initialize()\n",
    "    except Exception as e:\n",
    "        ee.Authenticate()\n",
    "        ee.Initialize(project=project_name)\n",
    "        print(ee.String('Connection with the Earth Engine servers established').getInfo())\n",
    "\n",
    "establish_connection_with_earth_engine(\"ee-soheir-dev\")"
   ]
  },
  {
   "cell_type": "code",
   "execution_count": 16,
   "id": "f26aaf2a",
   "metadata": {},
   "outputs": [],
   "source": [
    "# function I may need to convert polygon object to ee polygon\n",
    "def convert_shapefile_to_ee_geometry(shp_geometry):\n",
    "    \"\"\"\n",
    "    Converts a polygon boundary to an Earth Engine geometry object.\n",
    "\n",
    "    Returns:\n",
    "        ee.Geometry: An Earth Engine Geometry object representing the shapefile boundary.\n",
    "    \"\"\"\n",
    "    # Convert the geometry to GeoJSON format\n",
    "    boundary_geojson = mapping(shp_geometry)\n",
    "\n",
    "    # Create and return an Earth Engine Geometry from the GeoJSON\n",
    "    return ee.Geometry(boundary_geojson)"
   ]
  },
  {
   "cell_type": "code",
   "execution_count": 20,
   "id": "259e40da",
   "metadata": {},
   "outputs": [],
   "source": [
    "# step 2: Create a task for each boundary in GEE\n",
    "test_boundary = admin_boundary_gdf.geometry[10]\n",
    "ee_boundary = convert_shapefile_to_ee_geometry(test_boundary)"
   ]
  },
  {
   "cell_type": "code",
   "execution_count": null,
   "id": "63a11c9b",
   "metadata": {},
   "outputs": [
    {
     "data": {
      "text/plain": [
       "<ee.imagecollection.ImageCollection at 0x254b59b5e20>"
      ]
     },
     "execution_count": 13,
     "metadata": {},
     "output_type": "execute_result"
    }
   ],
   "source": [
    "dataset = ee.ImageCollection('GOOGLE/SATELLITE_EMBEDDING/V1/ANNUAL')\n",
    "dataset"
   ]
  },
  {
   "cell_type": "code",
   "execution_count": 35,
   "id": "06e2c4ce",
   "metadata": {},
   "outputs": [],
   "source": [
    "embeddings = dataset.filterDate('2023-01-01', '2024-01-01').filterBounds(ee_boundary).first()"
   ]
  },
  {
   "cell_type": "code",
   "execution_count": 61,
   "id": "225742b3",
   "metadata": {},
   "outputs": [],
   "source": [
    "# Compute the mean of each band over the ee_boundary\n",
    "mean_dict = embeddings.reduceRegion(\n",
    "    reducer=ee.Reducer.mean(),\n",
    "    geometry=ee_boundary,\n",
    "    # scale=30,  # Adjust this depending on your data resolution\n",
    "    maxPixels=1e13\n",
    ")"
   ]
  },
  {
   "cell_type": "code",
   "execution_count": 62,
   "id": "477a2acb",
   "metadata": {},
   "outputs": [
    {
     "data": {
      "text/html": [
       "<div>\n",
       "<style scoped>\n",
       "    .dataframe tbody tr th:only-of-type {\n",
       "        vertical-align: middle;\n",
       "    }\n",
       "\n",
       "    .dataframe tbody tr th {\n",
       "        vertical-align: top;\n",
       "    }\n",
       "\n",
       "    .dataframe thead th {\n",
       "        text-align: right;\n",
       "    }\n",
       "</style>\n",
       "<table border=\"1\" class=\"dataframe\">\n",
       "  <thead>\n",
       "    <tr style=\"text-align: right;\">\n",
       "      <th></th>\n",
       "      <th>A00</th>\n",
       "      <th>A01</th>\n",
       "      <th>A02</th>\n",
       "      <th>A03</th>\n",
       "      <th>A04</th>\n",
       "      <th>A05</th>\n",
       "      <th>A06</th>\n",
       "      <th>A07</th>\n",
       "      <th>A08</th>\n",
       "      <th>A09</th>\n",
       "      <th>...</th>\n",
       "      <th>A54</th>\n",
       "      <th>A55</th>\n",
       "      <th>A56</th>\n",
       "      <th>A57</th>\n",
       "      <th>A58</th>\n",
       "      <th>A59</th>\n",
       "      <th>A60</th>\n",
       "      <th>A61</th>\n",
       "      <th>A62</th>\n",
       "      <th>A63</th>\n",
       "    </tr>\n",
       "  </thead>\n",
       "  <tbody>\n",
       "    <tr>\n",
       "      <th>0</th>\n",
       "      <td>0.018023</td>\n",
       "      <td>0.110296</td>\n",
       "      <td>-0.050106</td>\n",
       "      <td>0.007394</td>\n",
       "      <td>-0.131919</td>\n",
       "      <td>0.078577</td>\n",
       "      <td>0.092774</td>\n",
       "      <td>0.306607</td>\n",
       "      <td>-0.106542</td>\n",
       "      <td>0.076257</td>\n",
       "      <td>...</td>\n",
       "      <td>-0.108592</td>\n",
       "      <td>-0.155168</td>\n",
       "      <td>0.022579</td>\n",
       "      <td>-0.058929</td>\n",
       "      <td>-0.013118</td>\n",
       "      <td>0.039696</td>\n",
       "      <td>0.083952</td>\n",
       "      <td>-0.062258</td>\n",
       "      <td>0.046578</td>\n",
       "      <td>-0.189419</td>\n",
       "    </tr>\n",
       "  </tbody>\n",
       "</table>\n",
       "<p>1 rows × 64 columns</p>\n",
       "</div>"
      ],
      "text/plain": [
       "        A00       A01       A02       A03       A04       A05       A06  \\\n",
       "0  0.018023  0.110296 -0.050106  0.007394 -0.131919  0.078577  0.092774   \n",
       "\n",
       "        A07       A08       A09  ...       A54       A55       A56       A57  \\\n",
       "0  0.306607 -0.106542  0.076257  ... -0.108592 -0.155168  0.022579 -0.058929   \n",
       "\n",
       "        A58       A59       A60       A61       A62       A63  \n",
       "0 -0.013118  0.039696  0.083952 -0.062258  0.046578 -0.189419  \n",
       "\n",
       "[1 rows x 64 columns]"
      ]
     },
     "execution_count": 62,
     "metadata": {},
     "output_type": "execute_result"
    }
   ],
   "source": [
    "# Get the result as a Python dictionary\n",
    "mean_values = mean_dict.getInfo()\n",
    "\n",
    "pd.DataFrame([mean_values])"
   ]
  },
  {
   "cell_type": "code",
   "execution_count": 67,
   "id": "2f19ddee",
   "metadata": {},
   "outputs": [],
   "source": [
    "dataset = ee.ImageCollection('GOOGLE/SATELLITE_EMBEDDING/V1/ANNUAL')\n",
    "results = []\n",
    "\n",
    "# Loop through rows in the GeoDataFrame (geometry + ADM3_PCODE)\n",
    "for _, row in admin_boundary_gdf[['ADM3_PCODE', 'geometry']][0:3].iterrows():\n",
    "    adm3_code = row['ADM3_PCODE']\n",
    "    geom = row['geometry']\n",
    "\n",
    "    # Convert shapely geometry to ee.Geometry\n",
    "    ee_geom = convert_shapefile_to_ee_geometry(geom)\n",
    "\n",
    "    # Filter and get the first image\n",
    "    embeddings = dataset.filterDate('2023-01-01', '2024-01-01').filterBounds(ee_geom).first()\n",
    "    if embeddings is None:\n",
    "        continue\n",
    "\n",
    "    # Reduce to mean values\n",
    "    mean_dict = embeddings.reduceRegion(\n",
    "        reducer=ee.Reducer.mean(),\n",
    "        geometry=ee_geom,\n",
    "        scale=10,       # Adjust as needed\n",
    "        maxPixels=1e13\n",
    "    )\n",
    "\n",
    "    try:\n",
    "        mean_values = mean_dict.getInfo()\n",
    "        mean_values['ADM3_PCODE'] = adm3_code  \n",
    "        results.append(mean_values)\n",
    "    except Exception as e:\n",
    "        print(f\"Failed for {adm3_code}: {e}\")\n",
    "        continue\n",
    "\n",
    "# Convert to DataFrame\n",
    "embeddings_df = pd.DataFrame(results)"
   ]
  },
  {
   "cell_type": "markdown",
   "id": "271c8ea8",
   "metadata": {},
   "source": [
    "Send task to server-side"
   ]
  },
  {
   "cell_type": "code",
   "execution_count": 71,
   "id": "aa544ac0",
   "metadata": {},
   "outputs": [
    {
     "name": "stdout",
     "output_type": "stream",
     "text": [
      "Processing batch 0 to 20...\n",
      "Export task for batch 0 started.\n",
      "Processing batch 20 to 40...\n",
      "Export task for batch 20 started.\n",
      "Processing batch 40 to 60...\n",
      "Export task for batch 40 started.\n",
      "Processing batch 60 to 80...\n",
      "Export task for batch 60 started.\n",
      "Processing batch 80 to 100...\n",
      "Export task for batch 80 started.\n",
      "Processing batch 100 to 120...\n",
      "Export task for batch 100 started.\n",
      "Processing batch 120 to 140...\n",
      "Export task for batch 120 started.\n",
      "Processing batch 140 to 160...\n",
      "Export task for batch 140 started.\n",
      "Processing batch 160 to 180...\n",
      "Export task for batch 160 started.\n",
      "Processing batch 180 to 200...\n",
      "Export task for batch 180 started.\n",
      "Processing batch 200 to 220...\n",
      "Export task for batch 200 started.\n",
      "Processing batch 220 to 240...\n",
      "Export task for batch 220 started.\n",
      "Processing batch 240 to 260...\n",
      "Export task for batch 240 started.\n",
      "Processing batch 260 to 280...\n",
      "Export task for batch 260 started.\n",
      "Processing batch 280 to 300...\n",
      "Export task for batch 280 started.\n",
      "Processing batch 300 to 320...\n",
      "Export task for batch 300 started.\n",
      "Processing batch 320 to 340...\n",
      "Export task for batch 320 started.\n",
      "Processing batch 340 to 360...\n",
      "Export task for batch 340 started.\n",
      "Processing batch 360 to 380...\n",
      "Export task for batch 360 started.\n",
      "Processing batch 380 to 400...\n",
      "Export task for batch 380 started.\n",
      "Processing batch 400 to 411...\n",
      "Export task for batch 400 started.\n"
     ]
    }
   ],
   "source": [
    "import math\n",
    "\n",
    "# Load dataset and filter it once\n",
    "dataset = ee.ImageCollection('GOOGLE/SATELLITE_EMBEDDING/V1/ANNUAL') \\\n",
    "    .filterDate('2023-01-01', '2024-01-01')\n",
    "\n",
    "# Choose batch size\n",
    "batch_size = 20\n",
    "total_regions = len(admin_boundary_gdf)\n",
    "\n",
    "for i in range(0, total_regions, batch_size):\n",
    "    print(f\"Processing batch {i} to {min(i+batch_size, total_regions)}...\")\n",
    "\n",
    "    # Slice the GeoDataFrame for this batch\n",
    "    gdf_chunk = admin_boundary_gdf.iloc[i:i + batch_size]\n",
    "\n",
    "    features = []\n",
    "\n",
    "    for _, row in gdf_chunk[['ADM3_PCODE', 'geometry']].iterrows():\n",
    "        adm3_code = row['ADM3_PCODE']\n",
    "        geom = row['geometry']\n",
    "        ee_geom = convert_shapefile_to_ee_geometry(geom)\n",
    "\n",
    "        image = dataset.filterBounds(ee_geom).first()\n",
    "        if image:\n",
    "            mean_dict = image.reduceRegion(\n",
    "                reducer=ee.Reducer.mean(),\n",
    "                geometry=ee_geom,\n",
    "                scale=10,\n",
    "                maxPixels=1e13\n",
    "            )\n",
    "\n",
    "            feature = ee.Feature(None, mean_dict).set('ADM3_PCODE', adm3_code)\n",
    "            features.append(feature)\n",
    "\n",
    "    # Only export if there are features\n",
    "    if features:\n",
    "        feature_collection = ee.FeatureCollection(features)\n",
    "\n",
    "        task = ee.batch.Export.table.toDrive(\n",
    "            collection=feature_collection,\n",
    "            description=f'satellite_embeddings_batch_{i}',\n",
    "            folder='EarthEngineExports',\n",
    "            fileNamePrefix=f'adm3_embeddings_2023_batch_{i}',\n",
    "            fileFormat='CSV'\n",
    "        )\n",
    "        task.start()\n",
    "        print(f\"Export task for batch {i} started.\")\n",
    "    else:\n",
    "        print(f\"No valid features in batch {i}, skipping export.\")"
   ]
  },
  {
   "cell_type": "markdown",
   "id": "3995e793",
   "metadata": {},
   "source": [
    "### Processing the embeddings\n",
    "After downloading from google drive, collect them into a single table and label them with population"
   ]
  },
  {
   "cell_type": "code",
   "execution_count": 72,
   "id": "e2356a52",
   "metadata": {},
   "outputs": [],
   "source": [
    "import os "
   ]
  },
  {
   "cell_type": "code",
   "execution_count": 82,
   "id": "244b99c1",
   "metadata": {},
   "outputs": [],
   "source": [
    "path_to_embeddings = r\"C:\\Users\\Sean O Heir\\Documents\\research\\data\\mozambique\\embeddings\"\n",
    "\n",
    "# Collect only CSV files\n",
    "fpaths = [os.path.join(path_to_embeddings, file) for file in os.listdir(path_to_embeddings) if file.endswith('.csv')]\n",
    "\n",
    "# Read and concatenate all CSVs\n",
    "embeddings_df = pd.concat([pd.read_csv(f) for f in fpaths], ignore_index=True)\n",
    "embeddings_df = embeddings_df.drop(columns=['system:index', '.geo'])"
   ]
  },
  {
   "cell_type": "code",
   "execution_count": 98,
   "id": "9de55c53",
   "metadata": {},
   "outputs": [],
   "source": [
    "adm3_features = r\"C:\\Users\\Sean O Heir\\Documents\\research\\data\\mozambique\\extracted_features\\MOZ_population_adm3_features_2.csv\"\n",
    "\n",
    "adm3_features = pd.read_csv(adm3_features)\n",
    "pop_df = adm3_features[['ADM3_PCODE', 'T_TL', 'admin_boundary_area']]\n",
    "pop_df['pop_density'] = pop_df['T_TL'] / pop_df['admin_boundary_area']\n",
    "pop_df = pop_df.drop(columns=['T_TL', 'admin_boundary_area'])"
   ]
  },
  {
   "cell_type": "code",
   "execution_count": 99,
   "id": "48e2a4bd",
   "metadata": {},
   "outputs": [],
   "source": [
    "# merge embeddings with pop df \n",
    "features_pop_df = pd.merge(embeddings_df, pop_df, on=\"ADM3_PCODE\")\n",
    "\n",
    "output_path = r\"C:\\Users\\Sean O Heir\\Documents\\research\\data\\mozambique\\embeddings_and_labels.csv\"\n",
    "\n",
    "features_pop_df.to_csv(output_path, index=False) "
   ]
  }
 ],
 "metadata": {
  "kernelspec": {
   "display_name": "geospatial_env",
   "language": "python",
   "name": "python3"
  },
  "language_info": {
   "codemirror_mode": {
    "name": "ipython",
    "version": 3
   },
   "file_extension": ".py",
   "mimetype": "text/x-python",
   "name": "python",
   "nbconvert_exporter": "python",
   "pygments_lexer": "ipython3",
   "version": "3.12.10"
  }
 },
 "nbformat": 4,
 "nbformat_minor": 5
}
